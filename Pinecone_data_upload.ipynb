{
  "cells": [
    {
      "cell_type": "markdown",
      "metadata": {
        "id": "7I2wTiMSu3PB"
      },
      "source": [
        "# Extract embdeddings and store in Pinecone "
      ]
    },
    {
      "cell_type": "markdown",
      "metadata": {
        "id": "udUBTNuQXOpZ"
      },
      "source": [
        "##**Step 1: Install All the Required Pakages**"
      ]
    },
    {
      "cell_type": "code",
      "execution_count": null,
      "metadata": {
        "colab": {
          "base_uri": "https://localhost:8080/"
        },
        "id": "_aEfiWhkWBHt",
        "outputId": "f8b52382-5d0c-4253-f462-818a6f5f3f52"
      },
      "outputs": [
        {
          "name": "stdout",
          "output_type": "stream",
          "text": [
            "Installing collected packages: filetype, rapidfuzz, python-magic, python-iso639, langdetect, jsonpath-python, emoji, backoff, dataclasses-json-speakeasy, unstructured-client, unstructured\n",
            "Successfully installed backoff-2.2.1 dataclasses-json-speakeasy-0.5.11 emoji-2.10.1 filetype-1.2.0 jsonpath-python-1.0.6 langdetect-1.0.9 python-iso639-2024.2.7 python-magic-0.4.27 rapidfuzz-3.6.1 unstructured-0.12.4 unstructured-client-0.18.0\n",
            "Collecting sentence_transformers\n",
            "  Downloading sentence_transformers-2.3.1-py3-none-any.whl (132 kB)\n",
            "\u001b[2K     \u001b[90m━━━━━━━━━━━━━━━━━━━━━━━━━━━━━━━━━━━━━━━━\u001b[0m \u001b[32m132.8/132.8 kB\u001b[0m \u001b[31m3.4 MB/s\u001b[0m eta \u001b[36m0:00:00\u001b[0m\n",
            "\u001b[?25hRequirement already satisfied: transformers<5.0.0,>=4.32.0 in /usr/local/lib/python3.10/dist-packages (from sentence_transformers) (4.37.2)\n",
            "Requirement already satisfied: tqdm in /usr/local/lib/python3.10/dist-packages (from sentence_transformers) (4.66.2)\n",
            "Requirement already satisfied: torch>=1.11.0 in /usr/local/lib/python3.10/dist-packages (from sentence_transformers) (2.1.0+cu121)\n",
            "Requirement already satisfied: numpy in /usr/local/lib/python3.10/dist-packages (from sentence_transformers) (1.25.2)\n",
            "Requirement already satisfied: scikit-learn in /usr/local/lib/python3.10/dist-packages (from sentence_transformers) (1.2.2)\n",
            "Requirement already satisfied: scipy in /usr/local/lib/python3.10/dist-packages (from sentence_transformers) (1.11.4)\n",
            "Requirement already satisfied: nltk in /usr/local/lib/python3.10/dist-packages (from sentence_transformers) (3.8.1)\n",
            "Requirement already satisfied: sentencepiece in /usr/local/lib/python3.10/dist-packages (from sentence_transformers) (0.1.99)\n",
            "Requirement already satisfied: huggingface-hub>=0.15.1 in /usr/local/lib/python3.10/dist-packages (from sentence_transformers) (0.20.3)\n",
            "Requirement already satisfied: Pillow in /usr/local/lib/python3.10/dist-packages (from sentence_transformers) (9.4.0)\n",
            "Requirement already satisfied: filelock in /usr/local/lib/python3.10/dist-packages (from huggingface-hub>=0.15.1->sentence_transformers) (3.13.1)\n",
            "Requirement already satisfied: fsspec>=2023.5.0 in /usr/local/lib/python3.10/dist-packages (from huggingface-hub>=0.15.1->sentence_transformers) (2023.6.0)\n",
            "Requirement already satisfied: requests in /usr/local/lib/python3.10/dist-packages (from huggingface-hub>=0.15.1->sentence_transformers) (2.31.0)\n",
            "Requirement already satisfied: pyyaml>=5.1 in /usr/local/lib/python3.10/dist-packages (from huggingface-hub>=0.15.1->sentence_transformers) (6.0.1)\n",
            "Requirement already satisfied: typing-extensions>=3.7.4.3 in /usr/local/lib/python3.10/dist-packages (from huggingface-hub>=0.15.1->sentence_transformers) (4.9.0)\n",
            "Requirement already satisfied: packaging>=20.9 in /usr/local/lib/python3.10/dist-packages (from huggingface-hub>=0.15.1->sentence_transformers) (23.2)\n",
            "Requirement already satisfied: sympy in /usr/local/lib/python3.10/dist-packages (from torch>=1.11.0->sentence_transformers) (1.12)\n",
            "Requirement already satisfied: networkx in /usr/local/lib/python3.10/dist-packages (from torch>=1.11.0->sentence_transformers) (3.2.1)\n",
            "Requirement already satisfied: jinja2 in /usr/local/lib/python3.10/dist-packages (from torch>=1.11.0->sentence_transformers) (3.1.3)\n",
            "Requirement already satisfied: triton==2.1.0 in /usr/local/lib/python3.10/dist-packages (from torch>=1.11.0->sentence_transformers) (2.1.0)\n",
            "Requirement already satisfied: regex!=2019.12.17 in /usr/local/lib/python3.10/dist-packages (from transformers<5.0.0,>=4.32.0->sentence_transformers) (2023.12.25)\n",
            "Requirement already satisfied: tokenizers<0.19,>=0.14 in /usr/local/lib/python3.10/dist-packages (from transformers<5.0.0,>=4.32.0->sentence_transformers) (0.15.2)\n",
            "Requirement already satisfied: safetensors>=0.4.1 in /usr/local/lib/python3.10/dist-packages (from transformers<5.0.0,>=4.32.0->sentence_transformers) (0.4.2)\n",
            "Requirement already satisfied: click in /usr/local/lib/python3.10/dist-packages (from nltk->sentence_transformers) (8.1.7)\n",
            "Requirement already satisfied: joblib in /usr/local/lib/python3.10/dist-packages (from nltk->sentence_transformers) (1.3.2)\n",
            "Requirement already satisfied: threadpoolctl>=2.0.0 in /usr/local/lib/python3.10/dist-packages (from scikit-learn->sentence_transformers) (3.3.0)\n",
            "Requirement already satisfied: MarkupSafe>=2.0 in /usr/local/lib/python3.10/dist-packages (from jinja2->torch>=1.11.0->sentence_transformers) (2.1.5)\n",
            "Requirement already satisfied: charset-normalizer<4,>=2 in /usr/local/lib/python3.10/dist-packages (from requests->huggingface-hub>=0.15.1->sentence_transformers) (3.3.2)\n",
            "Requirement already satisfied: idna<4,>=2.5 in /usr/local/lib/python3.10/dist-packages (from requests->huggingface-hub>=0.15.1->sentence_transformers) (3.6)\n",
            "Requirement already satisfied: urllib3<3,>=1.21.1 in /usr/local/lib/python3.10/dist-packages (from requests->huggingface-hub>=0.15.1->sentence_transformers) (2.0.7)\n",
            "Requirement already satisfied: certifi>=2017.4.17 in /usr/local/lib/python3.10/dist-packages (from requests->huggingface-hub>=0.15.1->sentence_transformers) (2024.2.2)\n",
            "Requirement already satisfied: mpmath>=0.19 in /usr/local/lib/python3.10/dist-packages (from sympy->torch>=1.11.0->sentence_transformers) (1.3.0)\n",
            "Installing collected packages: sentence_transformers\n",
            "Successfully installed sentence_transformers-2.3.1\n",
            "Collecting pinecone-client\n",
            "  Downloading pinecone_client-3.0.3-py3-none-any.whl (207 kB)\n",
            "\u001b[2K     \u001b[90m━━━━━━━━━━━━━━━━━━━━━━━━━━━━━━━━━━━━━━━━\u001b[0m \u001b[32m207.4/207.4 kB\u001b[0m \u001b[31m4.5 MB/s\u001b[0m eta \u001b[36m0:00:00\u001b[0m\n",
            "\u001b[?25hRequirement already satisfied: certifi>=2019.11.17 in /usr/local/lib/python3.10/dist-packages (from pinecone-client) (2024.2.2)\n",
            "Requirement already satisfied: tqdm>=4.64.1 in /usr/local/lib/python3.10/dist-packages (from pinecone-client) (4.66.2)\n",
            "Requirement already satisfied: typing-extensions>=3.7.4 in /usr/local/lib/python3.10/dist-packages (from pinecone-client) (4.9.0)\n",
            "Requirement already satisfied: urllib3>=1.26.0 in /usr/local/lib/python3.10/dist-packages (from pinecone-client) (2.0.7)\n",
            "Installing collected packages: pinecone-client\n",
            "Successfully installed pinecone-client-3.0.3\n",
            "Collecting llama-cpp-python\n",
            "  Downloading llama_cpp_python-0.2.46.tar.gz (36.7 MB)\n",
            "\u001b[2K     \u001b[90m━━━━━━━━━━━━━━━━━━━━━━━━━━━━━━━━━━━━━━━━\u001b[0m \u001b[32m36.7/36.7 MB\u001b[0m \u001b[31m36.5 MB/s\u001b[0m eta \u001b[36m0:00:00\u001b[0m\n",
            "\u001b[?25h  Installing build dependencies ... \u001b[?25l\u001b[?25hdone\n",
            "  Getting requirements to build wheel ... \u001b[?25l\u001b[?25hdone\n",
            "  Installing backend dependencies ... \u001b[?25l\u001b[?25hdone\n",
            "  Preparing metadata (pyproject.toml) ... \u001b[?25l\u001b[?25hdone\n",
            "Requirement already satisfied: typing-extensions>=4.5.0 in /usr/local/lib/python3.10/dist-packages (from llama-cpp-python) (4.9.0)\n",
            "Requirement already satisfied: numpy>=1.20.0 in /usr/local/lib/python3.10/dist-packages (from llama-cpp-python) (1.25.2)\n",
            "Collecting diskcache>=5.6.1 (from llama-cpp-python)\n",
            "  Downloading diskcache-5.6.3-py3-none-any.whl (45 kB)\n",
            "\u001b[2K     \u001b[90m━━━━━━━━━━━━━━━━━━━━━━━━━━━━━━━━━━━━━━━━\u001b[0m \u001b[32m45.5/45.5 kB\u001b[0m \u001b[31m4.6 MB/s\u001b[0m eta \u001b[36m0:00:00\u001b[0m\n",
            "\u001b[?25hRequirement already satisfied: jinja2>=2.11.3 in /usr/local/lib/python3.10/dist-packages (from llama-cpp-python) (3.1.3)\n",
            "Requirement already satisfied: MarkupSafe>=2.0 in /usr/local/lib/python3.10/dist-packages (from jinja2>=2.11.3->llama-cpp-python) (2.1.5)\n",
            "Building wheels for collected packages: llama-cpp-python\n",
            "  Building wheel for llama-cpp-python (pyproject.toml) ... \u001b[?25l\u001b[?25hdone\n",
            "  Created wheel for llama-cpp-python: filename=llama_cpp_python-0.2.46-cp310-cp310-manylinux_2_35_x86_64.whl size=2615891 sha256=c2f9cd918cb8a249f5c9d33011fe2b53f79d954e519d5890e11e04b4ac9b1525\n",
            "  Stored in directory: /root/.cache/pip/wheels/1d/63/cb/c1ce62664712ab6fd32f32b9e8015bc85e6b335477471be3e4\n",
            "Successfully built llama-cpp-python\n",
            "Installing collected packages: diskcache, llama-cpp-python\n",
            "Successfully installed diskcache-5.6.3 llama-cpp-python-0.2.46\n",
            "Requirement already satisfied: huggingface_hub in /usr/local/lib/python3.10/dist-packages (0.20.3)\n",
            "Requirement already satisfied: filelock in /usr/local/lib/python3.10/dist-packages (from huggingface_hub) (3.13.1)\n",
            "Requirement already satisfied: fsspec>=2023.5.0 in /usr/local/lib/python3.10/dist-packages (from huggingface_hub) (2023.6.0)\n",
            "Requirement already satisfied: requests in /usr/local/lib/python3.10/dist-packages (from huggingface_hub) (2.31.0)\n",
            "Requirement already satisfied: tqdm>=4.42.1 in /usr/local/lib/python3.10/dist-packages (from huggingface_hub) (4.66.2)\n",
            "Requirement already satisfied: pyyaml>=5.1 in /usr/local/lib/python3.10/dist-packages (from huggingface_hub) (6.0.1)\n",
            "Requirement already satisfied: typing-extensions>=3.7.4.3 in /usr/local/lib/python3.10/dist-packages (from huggingface_hub) (4.9.0)\n",
            "Requirement already satisfied: packaging>=20.9 in /usr/local/lib/python3.10/dist-packages (from huggingface_hub) (23.2)\n",
            "Requirement already satisfied: charset-normalizer<4,>=2 in /usr/local/lib/python3.10/dist-packages (from requests->huggingface_hub) (3.3.2)\n",
            "Requirement already satisfied: idna<4,>=2.5 in /usr/local/lib/python3.10/dist-packages (from requests->huggingface_hub) (3.6)\n",
            "Requirement already satisfied: urllib3<3,>=1.21.1 in /usr/local/lib/python3.10/dist-packages (from requests->huggingface_hub) (2.0.7)\n",
            "Requirement already satisfied: certifi>=2017.4.17 in /usr/local/lib/python3.10/dist-packages (from requests->huggingface_hub) (2024.2.2)\n"
          ]
        }
      ],
      "source": [
        "!pip install langchain\n",
        "!pip install pypdf\n",
        "!pip install sentence_transformers\n",
        "!pip install pinecone-client\n",
        "!pip install huggingface_hub\n",
        "!pip install pinecone-client"
      ]
    },
    {
      "cell_type": "markdown",
      "metadata": {
        "id": "Logc48CDXirQ"
      },
      "source": [
        "#**Step 2: Import All the Required Libraries**"
      ]
    },
    {
      "cell_type": "code",
      "execution_count": null,
      "metadata": {
        "id": "kmdLCsZPXqwF"
      },
      "outputs": [],
      "source": [
        "from langchain.document_loaders import PyPDFLoader, OnlinePDFLoader\n",
        "from langchain.text_splitter import RecursiveCharacterTextSplitter\n",
        "from langchain.embeddings import HuggingFaceEmbeddings\n",
        "from langchain.vectorstores import Pinecone\n",
        "from sentence_transformers import SentenceTransformer\n",
        "import pinecone\n",
        "import os"
      ]
    },
    {
      "cell_type": "markdown",
      "metadata": {
        "id": "qBSwg7bOYCD8"
      },
      "source": [
        "#**Step 3: Load the Data**"
      ]
    },
    {
      "cell_type": "code",
      "execution_count": null,
      "metadata": {
        "colab": {
          "base_uri": "https://localhost:8080/"
        },
        "id": "dGeqAAmAaDeQ",
        "outputId": "68eb5cd8-beca-4a1b-92cb-7ef9feabf52f"
      },
      "outputs": [
        {
          "name": "stdout",
          "output_type": "stream",
          "text": [
            "Collecting jq\n",
            "  Downloading jq-1.6.0-cp310-cp310-manylinux_2_17_x86_64.manylinux2014_x86_64.whl (656 kB)\n",
            "\u001b[?25l     \u001b[90m━━━━━━━━━━━━━━━━━━━━━━━━━━━━━━━━━━━━━━━━\u001b[0m \u001b[32m0.0/656.0 kB\u001b[0m \u001b[31m?\u001b[0m eta \u001b[36m-:--:--\u001b[0m\r\u001b[2K     \u001b[91m━━━━━━━━━\u001b[0m\u001b[91m╸\u001b[0m\u001b[90m━━━━━━━━━━━━━━━━━━━━━━━━━━━━━━\u001b[0m \u001b[32m163.8/656.0 kB\u001b[0m \u001b[31m4.7 MB/s\u001b[0m eta \u001b[36m0:00:01\u001b[0m\r\u001b[2K     \u001b[91m━━━━━━━━━━━━━━━━━━━━━━━━━━━━━━━━\u001b[0m\u001b[90m╺\u001b[0m\u001b[90m━━━━━━━\u001b[0m \u001b[32m532.5/656.0 kB\u001b[0m \u001b[31m7.7 MB/s\u001b[0m eta \u001b[36m0:00:01\u001b[0m\r\u001b[2K     \u001b[90m━━━━━━━━━━━━━━━━━━━━━━━━━━━━━━━━━━━━━━━━\u001b[0m \u001b[32m656.0/656.0 kB\u001b[0m \u001b[31m7.2 MB/s\u001b[0m eta \u001b[36m0:00:00\u001b[0m\n",
            "\u001b[?25hInstalling collected packages: jq\n",
            "Successfully installed jq-1.6.0\n"
          ]
        }
      ],
      "source": [
        "pip install jq"
      ]
    },
    {
      "cell_type": "code",
      "execution_count": null,
      "metadata": {
        "id": "ZloxO1BZaI5y"
      },
      "outputs": [],
      "source": [
        "import json\n",
        "from pathlib import Path\n",
        "from pprint import pprint\n",
        "from langchain_community.document_loaders import JSONLoader\n",
        "\n",
        "loader = JSONLoader(\n",
        "    file_path='/content/product_data20.json',\n",
        "    jq_schema='.[]',\n",
        "    text_content=False)\n",
        "\n",
        "data = loader.load()"
      ]
    },
    {
      "cell_type": "markdown",
      "metadata": {
        "id": "68n73kgaYcl1"
      },
      "source": [
        "#**Step 4: Split the Text into Chunks**"
      ]
    },
    {
      "cell_type": "code",
      "execution_count": null,
      "metadata": {
        "colab": {
          "base_uri": "https://localhost:8080/"
        },
        "id": "xsAq_GejaNHt",
        "outputId": "ac97373a-8990-4e8f-d283-a1a705cd6aab"
      },
      "outputs": [
        {
          "name": "stdout",
          "output_type": "stream",
          "text": [
            "19 the lenght of all split files\n"
          ]
        }
      ],
      "source": [
        "from langchain.docstore.document import Document\n",
        "from langchain.text_splitter import RecursiveCharacterTextSplitter\n",
        "\n",
        "text_splitter = RecursiveCharacterTextSplitter(chunk_size=1000, chunk_overlap=0)\n",
        "\n",
        "# Process all documents in the data list\n",
        "all_docs = []\n",
        "for document in data:\n",
        "    texts = text_splitter.split_text(document.page_content)\n",
        "    docs = [Document(page_content=t) for t in texts]\n",
        "    all_docs.extend(docs)\n",
        "\n",
        "# Now you have a list of document objects for all text chunks from all documents\n",
        "# in the data list:\n",
        "\n",
        "print(len(all_docs),\"the lenght of all split files\")"
      ]
    },
    {
      "cell_type": "markdown",
      "metadata": {
        "id": "K24-STW9ZGnG"
      },
      "source": [
        "#**Step 5: Setup the Environment**"
      ]
    },
    {
      "cell_type": "code",
      "execution_count": null,
      "metadata": {
        "id": "aZMYGbDlY1pL"
      },
      "outputs": [],
      "source": [
        "os.environ[\"HUGGINGFACEHUB_API_TOKEN\"] = \"hf_ataWFxkE****************\""
      ]
    },
    {
      "cell_type": "markdown",
      "metadata": {
        "id": "waQtomfxZhM4"
      },
      "source": [
        "#**Step 6: Downlaod the Embeddings**"
      ]
    },
    {
      "cell_type": "code",
      "execution_count": null,
      "metadata": {
        "id": "_937693LZpoY"
      },
      "outputs": [],
      "source": [
        "embeddings=HuggingFaceEmbeddings(model_name='sentence-transformers/all-MiniLM-L6-v2')"
      ]
    },
    {
      "cell_type": "markdown",
      "metadata": {
        "id": "a9pCsYXaaL6E"
      },
      "source": [
        "#**Step 7: Initializing the Pinecone**"
      ]
    },
    {
      "cell_type": "code",
      "execution_count": null,
      "metadata": {
        "id": "X6dac7nCaw-H"
      },
      "outputs": [],
      "source": [
        "import os\n",
        "os.environ['PINECONE_API_KEY'] = 'key'"
      ]
    },
    {
      "cell_type": "code",
      "execution_count": null,
      "metadata": {
        "id": "kdsgyXLFaaAw"
      },
      "outputs": [],
      "source": [
        "from pinecone import Pinecone\n",
        "pc = Pinecone(api_key=\"a17ce8c3-f********************1\")\n",
        "pc.list_indexes()"
      ]
    },
    {
      "cell_type": "code",
      "execution_count": 14,
      "metadata": {
        "id": "rJGY4mIuajLs"
      },
      "outputs": [],
      "source": [
        "index_name='Your_index_name'"
      ]
    },
    {
      "cell_type": "code",
      "execution_count": 10,
      "metadata": {
        "id": "jdoodRGEap9g"
      },
      "outputs": [],
      "source": [
        "from langchain.vectorstores import Pinecone as PineconeStore"
      ]
    },
    {
      "cell_type": "code",
      "execution_count": 15,
      "metadata": {
        "id": "vfwVsUEpaq9I"
      },
      "outputs": [],
      "source": [
        "docsearch=PineconeStore.from_texts(\n",
        "    [t.page_content for t in all_docs],\n",
        "    embeddings,\n",
        "    index_name=index_name\n",
        ")"
      ]
    },
    {
      "cell_type": "code",
      "execution_count": 27,
      "metadata": {
        "id": "dNQciArAg_vm"
      },
      "outputs": [],
      "source": [
        "index = pc.Index(index_name)"
      ]
    },
    {
      "cell_type": "code",
      "execution_count": 28,
      "metadata": {
        "colab": {
          "base_uri": "https://localhost:8080/"
        },
        "id": "GHguaLYPhCV1",
        "outputId": "38790e48-a5ed-4849-ba70-dba1156bec37"
      },
      "outputs": [
        {
          "data": {
            "text/plain": [
              "<pinecone.data.index.Index at 0x7f7843debc10>"
            ]
          },
          "execution_count": 28,
          "metadata": {},
          "output_type": "execute_result"
        }
      ],
      "source": [
        "index"
      ]
    },
    {
      "cell_type": "code",
      "execution_count": null,
      "metadata": {
        "id": "vmvr6jd7gex5"
      },
      "outputs": [],
      "source": [
        "from sentence_transformers import SentenceTransformer\n",
        "import torch\n",
        "\n",
        "device = 'cuda' if torch.cuda.is_available() else 'cpu'\n",
        "\n",
        "model = SentenceTransformer('sentence-transformers/all-MiniLM-L6-v2', device=device)\n",
        "model"
      ]
    },
    {
      "cell_type": "markdown",
      "metadata": {},
      "source": [
        "## Testing the database"
      ]
    },
    {
      "cell_type": "code",
      "execution_count": 32,
      "metadata": {
        "colab": {
          "base_uri": "https://localhost:8080/"
        },
        "id": "F6DqnSaRgNmM",
        "outputId": "0b7b550e-98dd-41f7-98b8-033fdb532eb6"
      },
      "outputs": [
        {
          "data": {
            "text/plain": [
              "{'matches': [{'id': 'f095f061-d092-4b22-a140-c21534ae5809',\n",
              "              'metadata': {'text': '{\"PRODUCT NAME\": \"TOMMY HILFIGER \\\\u2013 '\n",
              "                                   'ROUND NECK SWEATERS\", \"PRODUCT BRAND\": '\n",
              "                                   '\"TOMMY HILFIGER\", \"PRODUCT PRICE\": '\n",
              "                                   '\"\\\\u20ac245.00\", \"PRODUCT CATEGORY\": '\n",
              "                                   '\"MEN\\'S SWEATERS\", \"PRODUCT TAG\": '\n",
              "                                   '\"SWEATERS\", \"PRODUCT DESCRIPTION\": \"round '\n",
              "                                   'neck long sleeves with elastic cuffs front '\n",
              "                                   'logo writing logo embroidery braided '\n",
              "                                   'ribbed edges Model\\\\u2019s height (cm): '\n",
              "                                   '185 Model size: L Compositions: '\n",
              "                                   '63%WOOL37%POLYAMIDE\", \"PRODUCT SIZE\": \"L, '\n",
              "                                   'S, M\", \"PRODUCT COLOR\": \"OFF-WHITE\", '\n",
              "                                   '\"PRODUCT LINK\": '\n",
              "                                   '\"https://www.tuscanrhea.com/product/tommy-hilfiger-round-neck-sweaters-5/?v=38dd815e66db\"}'},\n",
              "              'score': 0.528784633,\n",
              "              'values': []},\n",
              "             {'id': '8e5af602-b9db-4410-b8c8-ba24372c779c',\n",
              "              'metadata': {'text': '{\"PRODUCT NAME\": \"Jacqueline De Yong Women '\n",
              "                                   'Knitwear\", \"PRODUCT BRAND\": \"Jacqueline De '\n",
              "                                   'Yong\", \"PRODUCT PRICE\": \"\\\\u20ac49.00\", '\n",
              "                                   '\"PRODUCT CATEGORY\": \"WOMEN\\'S SWEATERS\", '\n",
              "                                   '\"PRODUCT TAG\": \"SWEATERS\", \"PRODUCT '\n",
              "                                   'DESCRIPTION\": \"Brand: Jacqueline De Yong '\n",
              "                                   'Gender: Women Type: Knitwear Season: '\n",
              "                                   'Fall/Winter PRODUCT DETAIL \\\\u2022 Color: '\n",
              "                                   'brown \\\\u2022 Pattern: leopard \\\\u2022 '\n",
              "                                   'Fastening: slip on \\\\u2022 Sleeves: long '\n",
              "                                   '\\\\u2022 Neckline: round neck COMPOSITION '\n",
              "                                   'AND MATERIAL \\\\u2022 Composition: -72% '\n",
              "                                   'acrylic -28% polyester \\\\u2022 Washing: '\n",
              "                                   'machine wash at 30\\\\u00b0\", \"PRODUCT '\n",
              "                                   'SIZE\": \"L, S, XS, M\", \"PRODUCT COLOR\": '\n",
              "                                   '\"Brown\", \"PRODUCT LINK\": '\n",
              "                                   '\"https://www.tuscanrhea.com/product/jacqueline-de-yong-women-knitwear-2/\"}'},\n",
              "              'score': 0.494639337,\n",
              "              'values': []},\n",
              "             {'id': '7ada93fc-388c-41fd-9dcc-95d2da8258c5',\n",
              "              'metadata': {'text': '{\"PRODUCT NAME\": \"Vero Moda Women '\n",
              "                                   'Knitwear\", \"PRODUCT BRAND\": \"Vero Moda\", '\n",
              "                                   '\"PRODUCT PRICE\": \"\\\\u20ac44.00\", \"PRODUCT '\n",
              "                                   'CATEGORY\": \"WOMEN\\'S SWEATERS\", \"PRODUCT '\n",
              "                                   'TAG\": \"SWEATERS\", \"PRODUCT DESCRIPTION\": '\n",
              "                                   '\"Brand: Vero Moda Gender: Women Type: '\n",
              "                                   'Knitwear Season: Fall/Winter PRODUCT '\n",
              "                                   'DETAIL \\\\u2022 Color: purple \\\\u2022 '\n",
              "                                   'Pattern: leopard \\\\u2022 Fastening: slip '\n",
              "                                   'on \\\\u2022 Sleeves: long \\\\u2022 Neckline: '\n",
              "                                   'turtleneck COMPOSITION AND MATERIAL '\n",
              "                                   '\\\\u2022 Composition: -70% acrylic -30% '\n",
              "                                   'polyester \\\\u2022 Washing: machine wash at '\n",
              "                                   '30\\\\u00b0\", \"PRODUCT SIZE\": \"L, XL, M\", '\n",
              "                                   '\"PRODUCT COLOR\": \"Purple\", \"PRODUCT LINK\": '\n",
              "                                   '\"https://www.tuscanrhea.com/product/vero-moda-women-knitwear-8/?v=38dd815e66db\"}'},\n",
              "              'score': 0.479617387,\n",
              "              'values': []},\n",
              "             {'id': '28e288d9-495a-4ccf-914a-ba120e74bb93',\n",
              "              'metadata': {'text': '{\"PRODUCT NAME\": \"Twin Set Women '\n",
              "                                   'Blazer\\\\n\", \"PRODUCT BRAND\": \"Twin Set\", '\n",
              "                                   '\"PRODUCT PRICE\": \"\\\\u20ac 481.00 \\\\u20ac '\n",
              "                                   '260.99\", \"PRODUCT CATEGORY\": \"WOMEN\\'S '\n",
              "                                   'FORMAL JACKET\", \"PRODUCT TAG\": \"FORMAL '\n",
              "                                   'JACKET\", \"PRODUCT DESCRIPTION\": \"Brand: '\n",
              "                                   'Twin Set Gender: Women Type: Blazer '\n",
              "                                   'Season: Spring/Summer PRODUCT DETAIL '\n",
              "                                   '\\\\u2022 Color: white \\\\u2022 Sleeves: long '\n",
              "                                   '\\\\u2022 Neckline: round neck COMPOSITION '\n",
              "                                   'AND MATERIAL \\\\u2022 Composition: -55% '\n",
              "                                   'cotton -45% line\", \"PRODUCT SIZE\": \"48, '\n",
              "                                   '42, 46, 38, 50\", \"PRODUCT COLOR\": \"White\", '\n",
              "                                   '\"PRODUCT LINK\": '\n",
              "                                   '\"https://www.tuscanrhea.com/product/twin-set-women-blazer-3/?v=38dd815e66db\"}'},\n",
              "              'score': 0.463522315,\n",
              "              'values': []},\n",
              "             {'id': 'dd186892-2f40-4d57-8df2-510e8667c742',\n",
              "              'metadata': {'text': '{\"PRODUCT NAME\": \"Desigual Women Blazer\", '\n",
              "                                   '\"PRODUCT BRAND\": \"Desigual\", \"PRODUCT '\n",
              "                                   'PRICE\": \"SOLD OUT\", \"PRODUCT CATEGORY\": '\n",
              "                                   '\"WOMEN\\'S FORMAL JACKET\", \"PRODUCT TAG\": '\n",
              "                                   '\"FORMAL JACKET\", \"PRODUCT DESCRIPTION\": '\n",
              "                                   '\"Brand: Desigual Gender: Women Type: '\n",
              "                                   'Blazer Season: Fall/Winter PRODUCT DETAIL '\n",
              "                                   '\\\\u2022 Color: orange \\\\u2022 Sleeves: '\n",
              "                                   'long COMPOSITION AND MATERIAL \\\\u2022 '\n",
              "                                   'Composition: -100% acrylic\", \"PRODUCT '\n",
              "                                   'SIZE\": \"XL, M, XS, L, S\", \"PRODUCT COLOR\": '\n",
              "                                   '\"Orange\", \"PRODUCT LINK\": '\n",
              "                                   '\"https://www.tuscanrhea.com/product/desigual-women-blazer/?v=38dd815e66db\"}'},\n",
              "              'score': 0.457971901,\n",
              "              'values': []}],\n",
              " 'namespace': '',\n",
              " 'usage': {'read_units': 6}}"
            ]
          },
          "execution_count": 32,
          "metadata": {},
          "output_type": "execute_result"
        }
      ],
      "source": [
        "query = \"show me men sweaters\"\n",
        "\n",
        "# create the query vector\n",
        "xq = model.encode(query).tolist()\n",
        "\n",
        "# # now query\n",
        "xc = index.query(vector=xq, top_k=5, include_metadata=True)\n",
        "xc"
      ]
    },
    {
      "cell_type": "code",
      "execution_count": 33,
      "metadata": {
        "colab": {
          "base_uri": "https://localhost:8080/"
        },
        "id": "Gz59A08aglVG",
        "outputId": "4bb261d4-95f3-4ed5-b6da-298011339110"
      },
      "outputs": [
        {
          "name": "stdout",
          "output_type": "stream",
          "text": [
            "0.53: {\"PRODUCT NAME\": \"TOMMY HILFIGER \\u2013 ROUND NECK SWEATERS\", \"PRODUCT BRAND\": \"TOMMY HILFIGER\", \"PRODUCT PRICE\": \"\\u20ac245.00\", \"PRODUCT CATEGORY\": \"MEN'S SWEATERS\", \"PRODUCT TAG\": \"SWEATERS\", \"PRODUCT DESCRIPTION\": \"round neck long sleeves with elastic cuffs front logo writing logo embroidery braided ribbed edges Model\\u2019s height (cm): 185 Model size: L Compositions: 63%WOOL37%POLYAMIDE\", \"PRODUCT SIZE\": \"L, S, M\", \"PRODUCT COLOR\": \"OFF-WHITE\", \"PRODUCT LINK\": \"https://www.tuscanrhea.com/product/tommy-hilfiger-round-neck-sweaters-5/?v=38dd815e66db\"}\n",
            "0.49: {\"PRODUCT NAME\": \"Jacqueline De Yong Women Knitwear\", \"PRODUCT BRAND\": \"Jacqueline De Yong\", \"PRODUCT PRICE\": \"\\u20ac49.00\", \"PRODUCT CATEGORY\": \"WOMEN'S SWEATERS\", \"PRODUCT TAG\": \"SWEATERS\", \"PRODUCT DESCRIPTION\": \"Brand: Jacqueline De Yong Gender: Women Type: Knitwear Season: Fall/Winter PRODUCT DETAIL \\u2022 Color: brown \\u2022 Pattern: leopard \\u2022 Fastening: slip on \\u2022 Sleeves: long \\u2022 Neckline: round neck COMPOSITION AND MATERIAL \\u2022 Composition: -72% acrylic -28% polyester \\u2022 Washing: machine wash at 30\\u00b0\", \"PRODUCT SIZE\": \"L, S, XS, M\", \"PRODUCT COLOR\": \"Brown\", \"PRODUCT LINK\": \"https://www.tuscanrhea.com/product/jacqueline-de-yong-women-knitwear-2/\"}\n",
            "0.48: {\"PRODUCT NAME\": \"Vero Moda Women Knitwear\", \"PRODUCT BRAND\": \"Vero Moda\", \"PRODUCT PRICE\": \"\\u20ac44.00\", \"PRODUCT CATEGORY\": \"WOMEN'S SWEATERS\", \"PRODUCT TAG\": \"SWEATERS\", \"PRODUCT DESCRIPTION\": \"Brand: Vero Moda Gender: Women Type: Knitwear Season: Fall/Winter PRODUCT DETAIL \\u2022 Color: purple \\u2022 Pattern: leopard \\u2022 Fastening: slip on \\u2022 Sleeves: long \\u2022 Neckline: turtleneck COMPOSITION AND MATERIAL \\u2022 Composition: -70% acrylic -30% polyester \\u2022 Washing: machine wash at 30\\u00b0\", \"PRODUCT SIZE\": \"L, XL, M\", \"PRODUCT COLOR\": \"Purple\", \"PRODUCT LINK\": \"https://www.tuscanrhea.com/product/vero-moda-women-knitwear-8/?v=38dd815e66db\"}\n",
            "0.46: {\"PRODUCT NAME\": \"Twin Set Women Blazer\\n\", \"PRODUCT BRAND\": \"Twin Set\", \"PRODUCT PRICE\": \"\\u20ac 481.00 \\u20ac 260.99\", \"PRODUCT CATEGORY\": \"WOMEN'S FORMAL JACKET\", \"PRODUCT TAG\": \"FORMAL JACKET\", \"PRODUCT DESCRIPTION\": \"Brand: Twin Set Gender: Women Type: Blazer Season: Spring/Summer PRODUCT DETAIL \\u2022 Color: white \\u2022 Sleeves: long \\u2022 Neckline: round neck COMPOSITION AND MATERIAL \\u2022 Composition: -55% cotton -45% line\", \"PRODUCT SIZE\": \"48, 42, 46, 38, 50\", \"PRODUCT COLOR\": \"White\", \"PRODUCT LINK\": \"https://www.tuscanrhea.com/product/twin-set-women-blazer-3/?v=38dd815e66db\"}\n",
            "0.46: {\"PRODUCT NAME\": \"Desigual Women Blazer\", \"PRODUCT BRAND\": \"Desigual\", \"PRODUCT PRICE\": \"SOLD OUT\", \"PRODUCT CATEGORY\": \"WOMEN'S FORMAL JACKET\", \"PRODUCT TAG\": \"FORMAL JACKET\", \"PRODUCT DESCRIPTION\": \"Brand: Desigual Gender: Women Type: Blazer Season: Fall/Winter PRODUCT DETAIL \\u2022 Color: orange \\u2022 Sleeves: long COMPOSITION AND MATERIAL \\u2022 Composition: -100% acrylic\", \"PRODUCT SIZE\": \"XL, M, XS, L, S\", \"PRODUCT COLOR\": \"Orange\", \"PRODUCT LINK\": \"https://www.tuscanrhea.com/product/desigual-women-blazer/?v=38dd815e66db\"}\n"
          ]
        }
      ],
      "source": [
        "for result in xc['matches']:\n",
        "    print(f\"{round(result['score'], 2)}: {result['metadata']['text']}\")"
      ]
    }
  ],
  "metadata": {
    "accelerator": "GPU",
    "colab": {
      "provenance": []
    },
    "kernelspec": {
      "display_name": "Python 3",
      "name": "python3"
    },
    "language_info": {
      "name": "python"
    }
  },
  "nbformat": 4,
  "nbformat_minor": 0
}
